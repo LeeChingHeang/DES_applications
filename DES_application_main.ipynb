{
 "cells": [
  {
   "cell_type": "markdown",
   "metadata": {},
   "source": [
    "# Welcome to DES application coding process\n",
    "First we need to provide the input of the 64 bits as 8 characters:\n",
    "- Plaintext = plaintext\n",
    "- Key = key"
   ]
  },
  {
   "cell_type": "code",
   "execution_count": 38,
   "metadata": {},
   "outputs": [],
   "source": [
    "plaintext = \"Ineedyou\"\n",
    "Key = \"LoveLong\""
   ]
  },
  {
   "cell_type": "markdown",
   "metadata": {},
   "source": [
    "Convert the plaintext and key variable into Binary string"
   ]
  },
  {
   "cell_type": "code",
   "execution_count": 39,
   "metadata": {},
   "outputs": [],
   "source": [
    "def str2bin(text):\n",
    "    binary = ''.join(format(ord(i), '08b') for i in text)\n",
    "    return binary"
   ]
  },
  {
   "cell_type": "code",
   "execution_count": 40,
   "metadata": {},
   "outputs": [
    {
     "name": "stdout",
     "output_type": "stream",
     "text": [
      "Plaintext in binary:  0100100101101110011001010110010101100100011110010110111101110101\n",
      "Key in binary:  0100110001101111011101100110010101001100011011110110111001100111\n"
     ]
    }
   ],
   "source": [
    "# Testing\n",
    "plaintext_bin = str2bin(plaintext)\n",
    "key_bin = str2bin(Key)\n",
    "print(\"Plaintext in binary: \", plaintext_bin)\n",
    "print(\"Key in binary: \", key_bin)"
   ]
  },
  {
   "cell_type": "markdown",
   "metadata": {},
   "source": [
    "But we also need a function to convert binary to string after the 16 rounds of encryption output which is a binary string."
   ]
  },
  {
   "cell_type": "code",
   "execution_count": 41,
   "metadata": {},
   "outputs": [],
   "source": [
    "def bin2str(binary):\n",
    "    return ''.join(chr(int(binary[i:i+8], 2)) for i in range(0, len(binary), 8))"
   ]
  },
  {
   "cell_type": "markdown",
   "metadata": {},
   "source": [
    "Since we need to perform the permutation a lots which `Output[i] = Input[table[i]]`"
   ]
  },
  {
   "cell_type": "code",
   "execution_count": 42,
   "metadata": {},
   "outputs": [],
   "source": [
    "def permute(Input, table):\n",
    "    return [Input[i-1] for i in table]"
   ]
  },
  {
   "cell_type": "markdown",
   "metadata": {},
   "source": [
    "And We need to create some utility that will help us to generate random array (input) to perform permutation which we going to use a lots"
   ]
  },
  {
   "cell_type": "code",
   "execution_count": 43,
   "metadata": {},
   "outputs": [],
   "source": [
    "import random\n",
    "\n",
    "# Function generate the unique random array\n",
    "def generate_unique_random_array(size, start, end):\n",
    "    array =  random.sample(range(start, end), size)\n",
    "    return array\n",
    "\n",
    "# Function generate the random array with duplicate elements \n",
    "# it will be used for expansion box \n",
    "def generate_random_table(start, end, size, max_occurrences):\n",
    "    random_numbers = random.sample(max_occurrences* list(range(start, end)), size)\n",
    "    return random_numbers\n",
    "\n",
    "# Function generate matrix of 2 dimensions array with random values \n",
    "# it will be used for generating the S-boxes\n",
    "def create_matrix(rows, cols, start, end):\n",
    "    return [[random.randint(start, end) for _ in range(cols)] for _ in range(rows)]"
   ]
  },
  {
   "cell_type": "markdown",
   "metadata": {},
   "source": [
    "## Key Generation / Operation\n",
    "\n",
    "In order to perform Key Generation, We will break down the main function into 2 parts\n",
    "- Parity drop\n",
    "- Round-key Generator"
   ]
  },
  {
   "cell_type": "markdown",
   "metadata": {},
   "source": [
    "### Perform Parity Drop \n",
    "1. we need to Parity Drop table which have 56-bits size randomly generate with unique value selected from [1, 64]: PD_table\n",
    "2. We will perform Key permutation of 64-bits to 56-bits with Parity Drop table which given use the result of the Parity Drop Box: PD_permute_key -> PD_box"
   ]
  },
  {
   "cell_type": "code",
   "execution_count": 44,
   "metadata": {},
   "outputs": [],
   "source": [
    "def PD_box(key_bin):\n",
    "    # we input the key of 64-bits but we use only 56-bits so we need to generate a random array of 56 unique numbers from 1 to 64 for table for Permutation\n",
    "    PD_table = generate_unique_random_array(56, 1, 65)\n",
    "    # Key permutation 64-bit to 56-bit\n",
    "    PD_permute_key = permute(key_bin, PD_table)\n",
    "    # return the cipher key of 56-bits\n",
    "    return PD_permute_key"
   ]
  },
  {
   "cell_type": "markdown",
   "metadata": {},
   "source": [
    "### Round-Key Generator\n",
    "It Create 16 keys of the 48-bits of 56-bits cipher key\n",
    "So we need to perform 16 rounds\n",
    " - we need to slip the cipher keys into 28-bits equal side Left and Right"
   ]
  },
  {
   "cell_type": "code",
   "execution_count": 45,
   "metadata": {},
   "outputs": [],
   "source": [
    "# First we need to split the cipher key into two parts\n",
    "def split_array(arr, size):\n",
    "    left = key_bin[:size]\n",
    "    right = key_bin[size:]\n",
    "    return left, right"
   ]
  },
  {
   "cell_type": "markdown",
   "metadata": {},
   "source": [
    "In Key rotation\n",
    "\n",
    "We break down the each round into 3 steps\n",
    " - Shift left of left and right key\n",
    " - Concatenate both side\n",
    " - Compression Drop-box "
   ]
  },
  {
   "cell_type": "code",
   "execution_count": 46,
   "metadata": {},
   "outputs": [],
   "source": [
    "# Function Shift left\n",
    "def shift_left(arr_bin, shift):\n",
    "    return arr_bin[shift:] + arr_bin[:shift]\n",
    "\n",
    "# Function Round-key generator\n",
    "def keys_generator(key_bin):\n",
    "    # store the generated keys in a list\n",
    "    generate_keys = []\n",
    "    # generate compressed-Dbox table from 1-56 key to 48-bit key length\n",
    "    # we need to use the same compressed_Dbox_table for all rounds of the key generation\n",
    "    compressed_Dbox_table = generate_unique_random_array(48, 1, 57)\n",
    "    # we need to split the 56-bit key into two 28-bit keys\n",
    "    left, right = split_array(key_bin, 28)\n",
    "    # shift our bit to the left\n",
    "    for i in range(1, 17):\n",
    "        # set the shift value for the key rotation \n",
    "        shift = 1 if i in [1, 2, 9, 16] else 2\n",
    "        # shift the left and right keys\n",
    "        left = shift_left(left, shift)\n",
    "        right = shift_left(right, shift)\n",
    "\n",
    "        # This is where Concatenation of the left and right keys\n",
    "        combined_output = left + right\n",
    "\n",
    "        # compresses 56-bit key to 48-bit key\n",
    "        compressed_Dbox = permute(combined_output, compressed_Dbox_table)\n",
    "        generate_keys.append(compressed_Dbox) \n",
    "    return generate_keys"
   ]
  },
  {
   "cell_type": "markdown",
   "metadata": {},
   "source": [
    "# Main Algorithm of DES Application\n",
    "We perform\n",
    "- Initial permutation -> split each plaintext into 32-bits Left, Right\n",
    "- Round Function\n",
    "- Final permutation"
   ]
  },
  {
   "cell_type": "code",
   "execution_count": 47,
   "metadata": {},
   "outputs": [],
   "source": [
    "# Initial permutation\n",
    "def ip_box(text_bin):\n",
    "    ip_table = generate_unique_random_array(64, 1, 65)\n",
    "    ip_permute_text = permute(text_bin,ip_table)\n",
    "    return ip_permute_text\n",
    "\n",
    "# Final permutation\n",
    "def fp_box(last_round_combined_left_right_bin):\n",
    "    fp_table = generate_unique_random_array(64, 1, 65)\n",
    "    fp_permute_text = permute(last_round_combined_left_right_bin,fp_table)\n",
    "    return fp_permute_text"
   ]
  },
  {
   "cell_type": "markdown",
   "metadata": {},
   "source": [
    "# Round Function\n",
    "For each round it have 2 main components\n",
    "- Mixer: which we have f_Function and xor L\n",
    "    - f_Function(R_(i-1),k_i)\n",
    "    - xor\n",
    "- Swapper:\n",
    "        Left -> Right\n",
    "        Right -> Left"
   ]
  },
  {
   "cell_type": "markdown",
   "metadata": {},
   "source": [
    "f_function have sub 3 components\n",
    "- Expansion D-box\n",
    "- XOR: Key with the output of Expansion D-box\n",
    "- S-boxes"
   ]
  },
  {
   "cell_type": "code",
   "execution_count": 48,
   "metadata": {},
   "outputs": [],
   "source": [
    "# XOR operation of binary strings\n",
    "def xor(bin1, bin2):\n",
    "    # check if the binary strings are of the same length\n",
    "    if len(bin1) != len(bin2):\n",
    "        raise ValueError(\"Binary strings must have the same length.\")\n",
    "    return ''.join('0' if a == b else '1' for a, b in zip(bin1, bin2))\n",
    "\n",
    "# slipt the binary string of array into chunks\n",
    "def divide_chunks(input_string, chunk_size):\n",
    "    return [input_string[i:i+chunk_size] for i in range(0, len(input_string), chunk_size)]\n",
    "\n",
    "# Function F-function \n",
    "def f_function(plaintext_bin_arr_right, generate_key_bin):\n",
    "    # Expansion D-box\n",
    "    expansion_Dbox_table = generate_random_table(1, 33, 48, 2)\n",
    "    expansion_output = permute(plaintext_bin_arr_right, expansion_Dbox_table)\n",
    "    # perform XOR operation EXPANSION D-box output and the key\n",
    "    xor_output = xor(expansion_output, generate_key_bin)\n",
    "    # create S-boxes\n",
    "    s_box = divide_chunks(xor_output, 6)\n",
    "    chunk = len(s_box)\n",
    "\n",
    "    s_box_32bits = []\n",
    "    # 7 it the max index of chunk that s_box contain which have 8 chunk so -1 equal to number of the max index\n",
    "    for j in range(chunk):\n",
    "        s_box_table = create_matrix(4, 16, 0, 15)\n",
    "        row = int(s_box[j][0] + s_box[j][5], 2)\n",
    "        col = int(s_box[j][1:5], 2)\n",
    "        \n",
    "        bin_sbox_value = bin(s_box_table[row][col])[2:].zfill(4)\n",
    "        # s_box_32bits += bin(s_box_table[row][col])[2:].zfill(4) \n",
    "        s_box_32bits.extend(list(bin_sbox_value))\n",
    "\n",
    "    # Straight Permutation D-box\n",
    "    return s_box_32bits"
   ]
  },
  {
   "cell_type": "code",
   "execution_count": 49,
   "metadata": {},
   "outputs": [],
   "source": [
    "# Function Swap \n",
    "def swap(left, right):\n",
    "    return right, left\n",
    "\n",
    "# Round function - Encrypt\n",
    "def round_function(left, right, key):\n",
    "    # F-function \n",
    "    f_function_output = f_function(right, key)\n",
    "    # Mixer\n",
    "    xor_L_fR_output = xor(left, f_function_output)\n",
    "    # Perform Swap\n",
    "    left_new, right_new = swap(left, xor_L_fR_output)\n",
    "    \n",
    "    # return the new left and right\n",
    "    return left_new, right_new"
   ]
  },
  {
   "cell_type": "markdown",
   "metadata": {},
   "source": [
    "# DES Encryption Operation of 16 rounds"
   ]
  },
  {
   "cell_type": "code",
   "execution_count": 50,
   "metadata": {},
   "outputs": [
    {
     "name": "stdout",
     "output_type": "stream",
     "text": [
      "Plaintext:  Ineedyou\n",
      "Key:  LoveLong\n",
      "====================\n",
      "Cipher text array:  ['0', '1', '0', '1', '0', '0', '1', '1', '1', '1', '0', '0', '0', '1', '1', '0', '0', '1', '1', '1', '1', '0', '1', '1', '1', '0', '0', '0', '1', '1', '0', '1', '1', '1', '0', '0', '0', '1', '1', '0', '0', '1', '1', '1', '0', '0', '1', '1', '0', '0', '1', '0', '1', '0', '1', '1', '0', '0', '0', '1', '0', '1', '1', '1']\n",
      "Cipher text String:  0101001111000110011110111000110111000110011100110010101100010111\n",
      "Cipher text:  SÆ{Æs+\u0017\n"
     ]
    }
   ],
   "source": [
    "plaintext = \"Ineedyou\"\n",
    "Key=\"LoveLong\"\n",
    "# convert plaintext and key to binary string\n",
    "key_bin = str2bin(Key)\n",
    "plaintext_bin = str2bin(plaintext)\n",
    "# Initial permutation\n",
    "IP_text_bin = ip_box(plaintext_bin)\n",
    "\n",
    "# Parity drop box\n",
    "PD_permute_key_output = PD_box(key_bin)    \n",
    "# generate keys\n",
    "generate_keys = keys_generator(PD_permute_key_output)\n",
    "# split the IP_permutation into two halves\n",
    "IP_left, IP_right = split_array(IP_text_bin, len(IP_text_bin)//2)\n",
    "\n",
    "for i in range(1, 17):\n",
    "    # f_function_output = f_function(IP_right, generate_keys[i-1])\n",
    "    # xor_L_fR_output = xor(IP_left, f_function_output)\n",
    "    # IP_left, IP_right = swap(IP_left, xor_L_fR_output)\n",
    "    IP_left, IP_right = round_function(IP_left, IP_right, generate_keys[i-1])\n",
    "\n",
    "\n",
    "# concatenate the left and right keys\n",
    "combined_output = list(IP_left + IP_right)\n",
    "\n",
    "# Final permutation\n",
    "FP_permute_output = fp_box(combined_output)\n",
    "\n",
    "print(\"Plaintext: \", plaintext)\n",
    "print(\"Key: \", Key)\n",
    "print(\"====================\")\n",
    "print(\"Cipher text array: \", FP_permute_output)\n",
    "print(\"Cipher text String: \", ''.join(FP_permute_output))\n",
    "print(\"Cipher text: \", bin2str(''.join(FP_permute_output)))"
   ]
  }
 ],
 "metadata": {
  "kernelspec": {
   "display_name": "base",
   "language": "python",
   "name": "python3"
  },
  "language_info": {
   "codemirror_mode": {
    "name": "ipython",
    "version": 3
   },
   "file_extension": ".py",
   "mimetype": "text/x-python",
   "name": "python",
   "nbconvert_exporter": "python",
   "pygments_lexer": "ipython3",
   "version": "3.11.5"
  }
 },
 "nbformat": 4,
 "nbformat_minor": 2
}
