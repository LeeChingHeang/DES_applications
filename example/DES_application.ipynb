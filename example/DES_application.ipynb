{
 "cells": [
  {
   "cell_type": "markdown",
   "metadata": {
    "id": "f-Kw3qKmCCe_"
   },
   "source": [
    "\n",
    "Welcome to DES application coding process\n",
    "First provide the input of the 64 bits as 8 characters:\n",
    "- Plaintext =  input\n",
    "- Key = key"
   ]
  },
  {
   "cell_type": "markdown",
   "metadata": {},
   "source": [
    "Here are some issues and improvements in your code:\n",
    "\n",
    "1. **Variable Naming and Scope**: The variable `input` is used as a string, which conflicts with the built-in `input()` function. Rename it to avoid confusion.\n",
    "2. **Imports**: `numpy` is imported but not used. Remove it if unnecessary.\n",
    "3. **Function Definitions**: Ensure all functions are defined before they are called.\n",
    "4. **Indexing**: Ensure all indexing operations are within bounds.\n",
    "5. **Print Statements**: Remove or comment out unnecessary print statements for cleaner output.\n",
    "\n",
    "Here's a revised version of your code:\n",
    "\n"
   ]
  },
  {
   "cell_type": "code",
   "execution_count": null,
   "metadata": {},
   "outputs": [
    {
     "name": "stdout",
     "output_type": "stream",
     "text": [
      "Input (Binary): 0100100101101110011001010110010101100100011110010110111101110101\n",
      "Key (Binary): 0100110001101111011101100110010101101100011011110110111001100111\n",
      "Output (Binary): 11010111010010000010110111110110110011001111111010111101\n",
      "56\n",
      "Output Left (Binary): 1101011101001000001011011111\n",
      "Output Right (Binary): 0110110011001111111010111101\n",
      "Binary Strings: ['010110111011101011001110110101010011010011100111', '111010100111111001110101001110100011100011110101', '001011110000111111001001111000111011010011010101', '011110011100101111110011000101011111110111010101', '100111010011111111100111111100010101111101110001', '110101110100011011111100100100111101101011110011', '011111111100011011000110111001101111101100011110', '111000110111101111010100110011011100111110111110', '111111010100010101110100011101001011011101101010', '110001110010111010110111011111111001110110001010', '111111110010010000111011111011001100100111111101', '110010011110110101011110111011111001101110100101', '101110101111001110011001111101111000100111100010', '101111011111101000011101101101110101000110011101', '111111101111100101001111001011010010101011010001', '001101111101101100110111111011100001010111111001']\n"
     ]
    },
    {
     "ename": "IndexError",
     "evalue": "list index out of range",
     "output_type": "error",
     "traceback": [
      "\u001b[1;31m---------------------------------------------------------------------------\u001b[0m",
      "\u001b[1;31mIndexError\u001b[0m                                Traceback (most recent call last)",
      "Cell \u001b[1;32mIn[1], line 123\u001b[0m\n\u001b[0;32m    121\u001b[0m \u001b[38;5;28;01mfor\u001b[39;00m i \u001b[38;5;129;01min\u001b[39;00m \u001b[38;5;28mrange\u001b[39m(\u001b[38;5;241m1\u001b[39m, \u001b[38;5;241m17\u001b[39m):\n\u001b[0;32m    122\u001b[0m     new_output_left \u001b[38;5;241m=\u001b[39m output_right\n\u001b[1;32m--> 123\u001b[0m     output_right \u001b[38;5;241m=\u001b[39m \u001b[43mf_function\u001b[49m\u001b[43m(\u001b[49m\u001b[43mbinary_strings\u001b[49m\u001b[43m[\u001b[49m\u001b[43mi\u001b[49m\u001b[38;5;241;43m-\u001b[39;49m\u001b[38;5;241;43m1\u001b[39;49m\u001b[43m]\u001b[49m\u001b[43m,\u001b[49m\u001b[43m \u001b[49m\u001b[43moutput_right\u001b[49m\u001b[43m)\u001b[49m\n\u001b[0;32m    124\u001b[0m     output_right \u001b[38;5;241m=\u001b[39m xor_binary_strings(output_left, output_right)\n\u001b[0;32m    125\u001b[0m     output_left \u001b[38;5;241m=\u001b[39m new_output_left\n",
      "Cell \u001b[1;32mIn[1], line 117\u001b[0m, in \u001b[0;36mf_function\u001b[1;34m(key, right)\u001b[0m\n\u001b[0;32m    115\u001b[0m     row \u001b[38;5;241m=\u001b[39m \u001b[38;5;28mint\u001b[39m(sbox[i][\u001b[38;5;241m0\u001b[39m] \u001b[38;5;241m+\u001b[39m sbox[i][\u001b[38;5;241m-\u001b[39m\u001b[38;5;241m1\u001b[39m], \u001b[38;5;241m2\u001b[39m)\n\u001b[0;32m    116\u001b[0m     col \u001b[38;5;241m=\u001b[39m \u001b[38;5;28mint\u001b[39m(sbox[i][\u001b[38;5;241m1\u001b[39m:\u001b[38;5;241m-\u001b[39m\u001b[38;5;241m1\u001b[39m], \u001b[38;5;241m2\u001b[39m)\n\u001b[1;32m--> 117\u001b[0m     sbox_new \u001b[38;5;241m+\u001b[39m\u001b[38;5;241m=\u001b[39m \u001b[38;5;28mbin\u001b[39m(\u001b[43ms_box\u001b[49m\u001b[43m[\u001b[49m\u001b[43mrow\u001b[49m\u001b[43m]\u001b[49m\u001b[43m[\u001b[49m\u001b[43mcol\u001b[49m\u001b[43m]\u001b[49m)[\u001b[38;5;241m2\u001b[39m:]\u001b[38;5;241m.\u001b[39mzfill(\u001b[38;5;241m4\u001b[39m)\n\u001b[0;32m    118\u001b[0m \u001b[38;5;28;01mreturn\u001b[39;00m sbox_new\n",
      "\u001b[1;31mIndexError\u001b[0m: list index out of range"
     ]
    }
   ],
   "source": [
    "import random\n",
    "\n",
    "# Convert text to binary string\n",
    "def text_to_binary(text):\n",
    "    binary_string = \"\"\n",
    "    for char in text:\n",
    "        binary_char = bin(ord(char))[2:].zfill(8)  # Convert to binary and pad to 8 bits\n",
    "        binary_string += binary_char\n",
    "    return binary_string\n",
    "\n",
    "plaintext = \"Ineedyou\"\n",
    "key = \"Lovelong\"\n",
    "input_binary = text_to_binary(plaintext)\n",
    "key_binary = text_to_binary(key)\n",
    "\n",
    "print(\"Input (Binary):\", input_binary)\n",
    "print(\"Key (Binary):\", key_binary)\n",
    "\n",
    "# Generate unique random array\n",
    "def generate_unique_random_array(size, start, end):\n",
    "    array = []\n",
    "    while len(array) < size:\n",
    "        new_value = random.randint(start, end)\n",
    "        if new_value not in array:\n",
    "            array.append(new_value)\n",
    "    return array\n",
    "\n",
    "array = generate_unique_random_array(56, 1, 64)\n",
    "\n",
    "# Find the output of the parity drop\n",
    "output = \"\"\n",
    "for i in range(len(array)):\n",
    "    output += key_binary[array[i]-1]\n",
    "\n",
    "print(\"Output (Binary):\", output)\n",
    "print(len(output))\n",
    "\n",
    "# Split the output into 2 strings equally\n",
    "midpoint = len(output) // 2\n",
    "output_left = output[:midpoint]\n",
    "output_right = output[midpoint:]\n",
    "\n",
    "print(\"Output Left (Binary):\", output_left)\n",
    "print(\"Output Right (Binary):\", output_right)\n",
    "\n",
    "# Shift function\n",
    "def shift_binary_string(binary_string, shifts=1):\n",
    "    return binary_string[shifts:] + binary_string[:shifts]\n",
    "\n",
    "# Generate compression P-box\n",
    "compression_pbox = generate_unique_random_array(48, 1, 56)\n",
    "binary_strings = []\n",
    "\n",
    "for i in range(1, 17):\n",
    "    shifts = 1 if i in [1, 2, 9, 16] else 2\n",
    "    output_left = shift_binary_string(output_left, shifts)\n",
    "    output_right = shift_binary_string(output_right, shifts)\n",
    "\n",
    "    combined_output = output_left + output_right\n",
    "    output_key = \"\"\n",
    "    for j in range(len(compression_pbox)):\n",
    "        output_key += combined_output[compression_pbox[j]-1]\n",
    "\n",
    "    binary_strings.append(output_key)\n",
    "print(\"Binary Strings:\", binary_strings)\n",
    "# Generate IP box\n",
    "ip_box = generate_unique_random_array(64, 1, 64)\n",
    "\n",
    "# Output of the initial permutation box\n",
    "output_ip = \"\"\n",
    "for i in range(len(ip_box)):\n",
    "    output_ip += input_binary[ip_box[i]-1]\n",
    "\n",
    "output_left = output_ip[:32]\n",
    "output_right = output_ip[32:]\n",
    "\n",
    "# Generate matrix with constraints\n",
    "def generate_matrix_with_constraints(size, start, end, max_occurrence):\n",
    "    matrix = []\n",
    "    value_counts = {}\n",
    "    while len(matrix) < size:\n",
    "        new_value = random.randint(start, end)\n",
    "        if new_value not in value_counts or value_counts[new_value] < max_occurrence:\n",
    "            matrix.append(new_value)\n",
    "            if new_value not in value_counts:\n",
    "                value_counts[new_value] = 0\n",
    "            value_counts[new_value] += 1\n",
    "    return matrix\n",
    "\n",
    "# XOR operation between two binary strings\n",
    "def xor_binary_strings(str1, str2):\n",
    "    if len(str1) != len(str2):\n",
    "        raise ValueError(\"Binary strings must have the same length.\")\n",
    "    return ''.join('1' if str1[i] != str2[i] else '0' for i in range(len(str1)))\n",
    "\n",
    "# Create matrix\n",
    "def create_matrix(rows, cols, start, end):\n",
    "    return [[random.randint(start, end) for _ in range(cols)] for _ in range(rows)]\n",
    "\n",
    "# Split string into chunks\n",
    "def split_string(input_string, chunk_size):\n",
    "    return [input_string[i:i+chunk_size] for i in range(0, len(input_string), chunk_size)]\n",
    "\n",
    "# F function\n",
    "def f_function(key, right):\n",
    "    ep_box = generate_matrix_with_constraints(48, 1, 32, 2)\n",
    "    output_ep = \"\"\n",
    "    for i in range(len(ep_box)):\n",
    "        output_ep += right[ep_box[i]-1]\n",
    "    xor_result = xor_binary_strings(output_ep, key)\n",
    "    s_box = create_matrix(16, 4, 0, 15)\n",
    "    sbox = split_string(xor_result, 6)\n",
    "    sbox_new = \"\"\n",
    "    for i in range(8):\n",
    "        row = int(sbox[i][0] + sbox[i][-1], 2)\n",
    "        col = int(sbox[i][1:-1], 2)\n",
    "        sbox_new += bin(s_box[row][col])[2:].zfill(4)\n",
    "    return sbox_new\n",
    "\n",
    "# Main loop\n",
    "for i in range(1, 17):\n",
    "    new_output_left = output_right\n",
    "    output_right = f_function(binary_strings[i-1], output_right)\n",
    "    output_right = xor_binary_strings(output_left, output_right)\n",
    "    output_left = new_output_left\n",
    "\n",
    "print(\"Final Output Left:\", output_left)\n",
    "print(\"Final Output Right:\", output_right)"
   ]
  },
  {
   "cell_type": "markdown",
   "metadata": {},
   "source": [
    "\n",
    "\n",
    "This should help you identify and fix any errors in your code."
   ]
  },
  {
   "cell_type": "code",
   "execution_count": 1,
   "metadata": {
    "id": "qUnjW9KICBNG"
   },
   "outputs": [],
   "source": [
    "input = \"Ineedyou\"\n",
    "key = \"Lovelong\""
   ]
  },
  {
   "cell_type": "markdown",
   "metadata": {
    "id": "Ep9kP61jCx3i"
   },
   "source": [
    "Convert the input text and key to be Binary string"
   ]
  },
  {
   "cell_type": "code",
   "execution_count": 2,
   "metadata": {
    "colab": {
     "base_uri": "https://localhost:8080/"
    },
    "id": "a8WnC8lqC64M",
    "outputId": "5d243b67-6964-471d-aaa2-7250d41b2669"
   },
   "outputs": [
    {
     "name": "stdout",
     "output_type": "stream",
     "text": [
      "Input (Binary): 0100100101101110011001010110010101100100011110010110111101110101\n",
      "Key (Binary): 0100110001101111011101100110010101101100011011110110111001100111\n"
     ]
    }
   ],
   "source": [
    "# prompt: Covert input and key into Binary string and each character contain 8 bits\n",
    "def text_to_binary(text):\n",
    "  binary_string = \"\"\n",
    "  for char in text:\n",
    "    binary_char = bin(ord(char))[2:].zfill(8)  # Convert to binary and pad to 8 bits\n",
    "    binary_string += binary_char\n",
    "  return binary_string\n",
    "\n",
    "input_binary = text_to_binary(input)\n",
    "key_binary = text_to_binary(key)\n",
    "\n",
    "print(\"Input (Binary):\", input_binary)\n",
    "print(\"Key (Binary):\", key_binary)"
   ]
  },
  {
   "cell_type": "markdown",
   "metadata": {
    "id": "BVMiiOx8Dowd"
   },
   "source": [
    "Key Operation"
   ]
  },
  {
   "cell_type": "markdown",
   "metadata": {
    "id": "pErwUPHMD5dq"
   },
   "source": [
    "Generate Parity Drop Operational Matrix"
   ]
  },
  {
   "cell_type": "code",
   "execution_count": 4,
   "metadata": {
    "colab": {
     "base_uri": "https://localhost:8080/"
    },
    "id": "YBDt5wYzDsgX",
    "outputId": "79a86f3a-e6fa-40e8-8c50-6865c6202ad3"
   },
   "outputs": [
    {
     "data": {
      "text/plain": [
       "array([34, 21, 48, 25,  1,  2, 38, 42, 15, 45, 64, 32, 19, 37, 47, 63, 57,\n",
       "       17,  3, 55, 39, 54, 41, 36, 58, 43, 52, 56, 60, 29,  6, 20, 44, 27,\n",
       "       51, 49, 35, 50, 62, 59, 14, 46, 30, 12, 40, 23,  7, 22,  8, 31, 13,\n",
       "        4, 33, 10,  5, 53])"
      ]
     },
     "execution_count": 4,
     "metadata": {},
     "output_type": "execute_result"
    }
   ],
   "source": [
    "# prompt: Generate one dimensional array of 56 index and the value of the each index is randomly selected from [1,64] and one value cannot be used twice\n",
    "\n",
    "import random\n",
    "import numpy as np\n",
    "\n",
    "def generate_unique_random_array(size, start, end):\n",
    "  \"\"\"\n",
    "  Generates a 1D array of specified size with unique random values\n",
    "  within a given range.\n",
    "  \"\"\"\n",
    "  array = []\n",
    "  while len(array) < size:\n",
    "    new_value = random.randint(start, end)\n",
    "    if new_value not in array:\n",
    "      array.append(new_value)\n",
    "  return np.array(array)\n",
    "\n",
    "\n",
    "# Generate the array with unique random values between 1 and 64\n",
    "# with a size of 56\n",
    "array = generate_unique_random_array(56, 1, 64)\n",
    "\n",
    "array"
   ]
  },
  {
   "cell_type": "markdown",
   "metadata": {
    "id": "bPf82p96E2ip"
   },
   "source": [
    "Find the output of the parity drop"
   ]
  },
  {
   "cell_type": "code",
   "execution_count": 6,
   "metadata": {
    "colab": {
     "base_uri": "https://localhost:8080/"
    },
    "id": "nRTgYZikFKQU",
    "outputId": "54d18f77-02ab-4943-8f22-8dfee7762b62"
   },
   "outputs": [
    {
     "name": "stdout",
     "output_type": "stream",
     "text": [
      "Output (Binary): 10100111111111110001010011000011011011111110010100100111\n",
      "56\n"
     ]
    }
   ],
   "source": [
    "# prompt: the output[i]=key[array[i]]\n",
    "\n",
    "output = \"\"\n",
    "for i in range(len(array)):\n",
    "  output += key_binary[array[i]-1]\n",
    "\n",
    "print(\"Output (Binary):\", output)\n",
    "print(len(output))"
   ]
  },
  {
   "cell_type": "markdown",
   "metadata": {
    "id": "XYglDHf6FlbP"
   },
   "source": [
    "Split the output into 2 string equally"
   ]
  },
  {
   "cell_type": "code",
   "execution_count": 7,
   "metadata": {
    "colab": {
     "base_uri": "https://localhost:8080/"
    },
    "id": "w75LlmHiFs0L",
    "outputId": "146f5895-0ce4-4b24-9e66-56d2ca3e2f40"
   },
   "outputs": [
    {
     "name": "stdout",
     "output_type": "stream",
     "text": [
      "Output Left (Binary): 1010011111111111000101001100\n",
      "Output Right (Binary): 0011011011111110010100100111\n"
     ]
    }
   ],
   "source": [
    "# prompt: Split the output into 2 string equally\n",
    "\n",
    "# Split the output into 2 strings equally\n",
    "midpoint = len(output) // 2\n",
    "output_left = output[:midpoint]\n",
    "output_right = output[midpoint:]\n",
    "\n",
    "print(\"Output Left (Binary):\", output_left)\n",
    "print(\"Output Right (Binary):\", output_right)"
   ]
  },
  {
   "cell_type": "markdown",
   "metadata": {
    "id": "4CqfO1xBFztn"
   },
   "source": [
    "Create shift function which will rotation of the each output to the left\n",
    "- Shift 1 time when rotation round is [1, 2, 9, 16]\n",
    "- Otherwise shift 2 times"
   ]
  },
  {
   "cell_type": "code",
   "execution_count": 9,
   "metadata": {
    "colab": {
     "base_uri": "https://localhost:8080/"
    },
    "id": "lH288opHF-LI",
    "outputId": "8c00bc16-7c71-4e26-dc0d-673c284d1457"
   },
   "outputs": [
    {
     "name": "stdout",
     "output_type": "stream",
     "text": [
      "Original string: 10110010\n",
      "Shifted string: 01011001\n"
     ]
    }
   ],
   "source": [
    "import numpy as np\n",
    "def shift_binary_string(binary_string):\n",
    "  shifted_string = binary_string[-1] + binary_string[:-1]\n",
    "  return shifted_string\n",
    "\n",
    "# Example usage\n",
    "binary_string = \"10110010\"\n",
    "shifted_string = shift_binary_string(binary_string)\n",
    "print(f\"Original string: {binary_string}\")\n",
    "print(f\"Shifted string: {shifted_string}\")"
   ]
  },
  {
   "cell_type": "markdown",
   "metadata": {
    "id": "ZZ5f8_4UJKBx"
   },
   "source": [
    "Concatenate both of the output after the shift left"
   ]
  },
  {
   "cell_type": "code",
   "execution_count": 21,
   "metadata": {
    "colab": {
     "base_uri": "https://localhost:8080/"
    },
    "id": "rociRjt0Je5H",
    "outputId": "b7d17ccc-e4c3-4cc3-a695-c6680b238fd7"
   },
   "outputs": [
    {
     "data": {
      "text/plain": [
       "['001110101101111100101111110111100110101101010100',\n",
       " '011110100010101111100111011101111011011010010111',\n",
       " '110001101001111111110011100111111100000101110100',\n",
       " '000110000101111101011111101001110101111110101011',\n",
       " '110010111000111011111111001100111011110011101100',\n",
       " '010000100111010101011001110101111111101011100110',\n",
       " '011010011110011000111110100011011101110100111000',\n",
       " '011101010010001101011101111110000011110111001110',\n",
       " '011111001011010100001010100010111111111001001101',\n",
       " '111111001100101011010110100111010010110111001011',\n",
       " '101101010111010011110001001100101011011101001111',\n",
       " '111011111111011110100000111011010011111111100001',\n",
       " '010111111101001110011011011110001100101101011011',\n",
       " '100110111111000011100111111100000111010110110011',\n",
       " '110010110011111111101100011110001100011001111110',\n",
       " '100011011001101100110110011110100111000110011111']"
      ]
     },
     "execution_count": 21,
     "metadata": {},
     "output_type": "execute_result"
    }
   ],
   "source": [
    "# prompt: Create a loop for i form 1 to 16\n",
    "# print(f\"Output Right (Binary): {output_right}\")\n",
    "binary_strings = []\n",
    "compression_pbox = generate_unique_random_array(48, 1, 56)\n",
    "for i in range(1, 17):\n",
    "  if i in [1, 2, 9, 16]:\n",
    "    output_left = shift_binary_string(output_left)\n",
    "    output_right = shift_binary_string(output_right)\n",
    "    # print(f\"Output Left (Binary): {output_left}\")\n",
    "    # print(f\"Output Right (Binary): {output_right}\")\n",
    "  else:\n",
    "    output_left = shift_binary_string(shift_binary_string(output_left))\n",
    "    output_right = shift_binary_string(shift_binary_string(output_right))\n",
    "\n",
    "  combined_output = output_left + output_right\n",
    "  # print(f\"Combined Output (Binary): {combined_output}\")\n",
    "\n",
    "  output_key = \"\"\n",
    "  for i in range(len(compression_pbox)):\n",
    "    output_key += combined_output[compression_pbox[i]-1]\n",
    "\n",
    "  binary_strings.append(output_key) # Generate random 8-bit binary strings\n",
    "\n",
    "binary_strings\n"
   ]
  },
  {
   "cell_type": "markdown",
   "metadata": {
    "id": "Ac2igz_kNBnB"
   },
   "source": [
    "# Main algorithm\n",
    "Generate IP box"
   ]
  },
  {
   "cell_type": "code",
   "execution_count": 22,
   "metadata": {
    "colab": {
     "base_uri": "https://localhost:8080/"
    },
    "id": "hvSzW-Q0Py4K",
    "outputId": "4e17aea9-838d-4548-8870-ba741ca4cf05"
   },
   "outputs": [
    {
     "data": {
      "text/plain": [
       "array([ 9, 54, 51, 61, 16, 49, 46, 27, 40, 17, 26,  8, 21, 48, 41, 60, 42,\n",
       "       45,  7, 12, 36, 23, 53, 24,  2, 32, 15, 10, 52,  6, 64, 56, 14, 33,\n",
       "       25, 44, 50, 13, 57, 43, 30,  1, 19, 34, 28, 35, 62, 59,  3, 22, 18,\n",
       "       39, 29, 11, 47, 31, 37, 58,  4, 20, 55, 38,  5, 63])"
      ]
     },
     "execution_count": 22,
     "metadata": {},
     "output_type": "execute_result"
    }
   ],
   "source": [
    "ip_box = generate_unique_random_array(64, 1, 64)\n",
    "ip_box"
   ]
  },
  {
   "cell_type": "markdown",
   "metadata": {
    "id": "aEUZhmUpQyZp"
   },
   "source": [
    "Output of the initial permutation box"
   ]
  },
  {
   "cell_type": "code",
   "execution_count": 23,
   "metadata": {
    "colab": {
     "base_uri": "https://localhost:8080/",
     "height": 35
    },
    "id": "O1_ERe03Q4jV",
    "outputId": "f6b716fc-653c-4c6f-992e-e8c8ba84f1d6"
   },
   "outputs": [
    {
     "data": {
      "application/vnd.google.colaboratory.intrinsic+json": {
       "type": "string"
      },
      "text/plain": [
       "'0110000100110101110000111111001110011101101101110110010001001110'"
      ]
     },
     "execution_count": 23,
     "metadata": {},
     "output_type": "execute_result"
    }
   ],
   "source": [
    "output_ip = \"\"\n",
    "for i in range(len(ip_box)):\n",
    "  output_ip += input_binary[ip_box[i]-1]\n",
    "\n",
    "output_ip"
   ]
  },
  {
   "cell_type": "markdown",
   "metadata": {
    "id": "xHAaujw-RJc7"
   },
   "source": [
    "Split the output of the permutation box"
   ]
  },
  {
   "cell_type": "code",
   "execution_count": 24,
   "metadata": {
    "id": "eYqxWttZRPPo"
   },
   "outputs": [],
   "source": [
    "output_left = output_ip[:32]\n",
    "output_right = output_ip[32:]\n"
   ]
  },
  {
   "cell_type": "code",
   "execution_count": 32,
   "metadata": {
    "id": "itQ-etarTVjG"
   },
   "outputs": [],
   "source": [
    "# prompt: generate matrix with 48 index each value is randomly selected from 1 to 32 and one value can be used maximun only two times\n",
    "def generate_matrix_with_constraints(size, start, end, max_occurrence):\n",
    "  \"\"\"\n",
    "  Generates a matrix of specified size with random values within a given range,\n",
    "  ensuring that each value occurs at most a specified number of times.\n",
    "  \"\"\"\n",
    "  matrix = []\n",
    "  value_counts = {}\n",
    "  while len(matrix) < size:\n",
    "    new_value = random.randint(start, end)\n",
    "    if new_value not in value_counts or value_counts[new_value] < max_occurrence:\n",
    "      matrix.append(new_value)\n",
    "      if new_value not in value_counts:\n",
    "        value_counts[new_value] = 0\n",
    "      value_counts[new_value] += 1\n",
    "  return matrix\n"
   ]
  },
  {
   "cell_type": "code",
   "execution_count": 40,
   "metadata": {
    "id": "fYSpjfQVUuej"
   },
   "outputs": [],
   "source": [
    "# prompt: exclusive or of operation between 2 string binary\n",
    "\n",
    "# XOR operation between two binary strings\n",
    "def xor_binary_strings(str1, str2):\n",
    "  \"\"\"\n",
    "  Performs XOR operation between two binary strings of equal length.\n",
    "  \"\"\"\n",
    "  if len(str1) != len(str2):\n",
    "    raise ValueError(\"Binary strings must have the same length.\")\n",
    "\n",
    "  result = \"\"\n",
    "  for i in range(len(str1)):\n",
    "    if str1[i] == str2[i]:\n",
    "      result += \"0\"\n",
    "    else:\n",
    "      result += \"1\"\n",
    "  return result\n"
   ]
  },
  {
   "cell_type": "code",
   "execution_count": 45,
   "metadata": {
    "id": "8lhRjtCGZsk9"
   },
   "outputs": [],
   "source": [
    "# prompt: create 2 dimensional matrix of 4*16 and each index value is randomly selected from 0 to 15 and the same value can be use multiple times\n",
    "\n",
    "def create_matrix(rows, cols, start, end):\n",
    "  matrix = []\n",
    "  for _ in range(rows):\n",
    "    row = [random.randint(start, end) for _ in range(cols)]\n",
    "    matrix.append(row)\n",
    "  return matrix"
   ]
  },
  {
   "cell_type": "code",
   "execution_count": 46,
   "metadata": {
    "colab": {
     "base_uri": "https://localhost:8080/"
    },
    "id": "P7HpNicjavdt",
    "outputId": "20ca80ac-aa09-4717-8011-012713003491"
   },
   "outputs": [
    {
     "name": "stdout",
     "output_type": "stream",
     "text": [
      "['011010', '010110', '111001', '100101', '011011', '000110', '100101', '101110', '011001', '010111', '0100']\n"
     ]
    }
   ],
   "source": [
    "# prompt: split 48 bits string into 8 strings equally\n",
    "\n",
    "def split_string(input_string, chunk_size):\n",
    "  \"\"\"Splits a string into equal chunks of specified size.\"\"\"\n",
    "  return [input_string[i:i+chunk_size] for i in range(0, len(input_string), chunk_size)]\n",
    "\n",
    "# Example usage:\n",
    "output = \"0110100101101110011001010110110001101001011011100110010101110100\"  # Replace with your actual output string\n",
    "\n",
    "if len(output) % 8 == 0:\n",
    "  chunks = split_string(output, 6)\n",
    "  print(chunks)\n",
    "else:\n",
    "  print(\"The output string is not divisible by 8\")\n"
   ]
  },
  {
   "cell_type": "code",
   "execution_count": 100,
   "metadata": {
    "id": "nWt2_WBjSQ05"
   },
   "outputs": [],
   "source": [
    "def f_function(key, right):\n",
    "  ep_box = generate_matrix_with_constraints(48, 1, 32, 2)\n",
    "  print(ep_box)\n",
    "  print(len(ep_box))\n",
    "  output_ep = \"\"\n",
    "  for i in range(1,len(ep_box)):\n",
    "    output_ep += right[ep_box[i-1]-1]\n",
    "  print(output_ep)\n",
    "  # print(key)\n",
    "  xor_result = xor_binary_strings(output_ep, key)\n",
    "  s_box = create_matrix(16, 4, 0, 15)\n",
    "  print(s_box)\n",
    "  sbox = split_string(xor_result, 6)\n",
    "  print(sbox)\n",
    "  print(sbox[1][1])\n",
    "  sbox_new = \"\"\n",
    "  for i in range(8):\n",
    "    row = int(sbox[i][0] + sbox[i][-1], 2)\n",
    "    col = int(sbox[i][1:-1], 2)\n",
    "    # sbox_new += bin(s_box[row][col])[2:].zfill(4)\n",
    "    # print(bin(s_box[row][col])[2:].zfill(4))\n",
    "\n",
    "  return sbox_new\n",
    "\n",
    "\n",
    "\n"
   ]
  },
  {
   "cell_type": "code",
   "execution_count": 51,
   "metadata": {
    "colab": {
     "base_uri": "https://localhost:8080/"
    },
    "id": "lwLDRMOxc5ZV",
    "outputId": "91b5013e-9db8-41d5-85f3-3ba4dd6d3cdb"
   },
   "outputs": [
    {
     "name": "stdout",
     "output_type": "stream",
     "text": [
      "48\n",
      "32\n"
     ]
    }
   ],
   "source": [
    "print(len(binary_strings[0]))\n",
    "print(len(output_right))"
   ]
  },
  {
   "cell_type": "code",
   "execution_count": 101,
   "metadata": {
    "colab": {
     "base_uri": "https://localhost:8080/",
     "height": 367
    },
    "id": "Re-5hnvARYl_",
    "outputId": "4209b5d5-8c07-4e76-d90d-925abe352706"
   },
   "outputs": [
    {
     "name": "stdout",
     "output_type": "stream",
     "text": [
      "[12, 23, 19, 23, 13, 29, 5, 8, 25, 25, 31, 6, 19, 30, 28, 7, 18, 29, 5, 20, 7, 26, 10, 27, 27, 18, 8, 4, 30, 1, 22, 14, 17, 2, 20, 24, 13, 15, 9, 10, 12, 16, 28, 26, 17, 16, 32, 4]\n",
      "48\n"
     ]
    },
    {
     "ename": "IndexError",
     "evalue": "string index out of range",
     "output_type": "error",
     "traceback": [
      "\u001b[0;31m---------------------------------------------------------------------------\u001b[0m",
      "\u001b[0;31mIndexError\u001b[0m                                Traceback (most recent call last)",
      "\u001b[0;32m<ipython-input-101-de9b684cb6cf>\u001b[0m in \u001b[0;36m<cell line: 1>\u001b[0;34m()\u001b[0m\n\u001b[1;32m      5\u001b[0m   \u001b[0;31m# print(len(binary_strings))\u001b[0m\u001b[0;34m\u001b[0m\u001b[0;34m\u001b[0m\u001b[0m\n\u001b[1;32m      6\u001b[0m   \u001b[0;31m# print(output_right)\u001b[0m\u001b[0;34m\u001b[0m\u001b[0;34m\u001b[0m\u001b[0m\n\u001b[0;32m----> 7\u001b[0;31m   \u001b[0moutput_right\u001b[0m \u001b[0;34m=\u001b[0m \u001b[0mf_function\u001b[0m\u001b[0;34m(\u001b[0m\u001b[0mbinary_strings\u001b[0m\u001b[0;34m[\u001b[0m\u001b[0mi\u001b[0m\u001b[0;34m-\u001b[0m\u001b[0;36m1\u001b[0m\u001b[0;34m]\u001b[0m\u001b[0;34m,\u001b[0m\u001b[0moutput_right\u001b[0m\u001b[0;34m)\u001b[0m\u001b[0;34m\u001b[0m\u001b[0;34m\u001b[0m\u001b[0m\n\u001b[0m\u001b[1;32m      8\u001b[0m   \u001b[0;31m# new_output_right = xor_binary_strings(output_left, output_right)\u001b[0m\u001b[0;34m\u001b[0m\u001b[0;34m\u001b[0m\u001b[0m\n\u001b[1;32m      9\u001b[0m   \u001b[0;31m# output_left = new_output_left\u001b[0m\u001b[0;34m\u001b[0m\u001b[0;34m\u001b[0m\u001b[0m\n",
      "\u001b[0;32m<ipython-input-100-a5bd9e4f64f0>\u001b[0m in \u001b[0;36mf_function\u001b[0;34m(key, right)\u001b[0m\n\u001b[1;32m      5\u001b[0m   \u001b[0moutput_ep\u001b[0m \u001b[0;34m=\u001b[0m \u001b[0;34m\"\"\u001b[0m\u001b[0;34m\u001b[0m\u001b[0;34m\u001b[0m\u001b[0m\n\u001b[1;32m      6\u001b[0m   \u001b[0;32mfor\u001b[0m \u001b[0mi\u001b[0m \u001b[0;32min\u001b[0m \u001b[0mrange\u001b[0m\u001b[0;34m(\u001b[0m\u001b[0;36m1\u001b[0m\u001b[0;34m,\u001b[0m\u001b[0mlen\u001b[0m\u001b[0;34m(\u001b[0m\u001b[0mep_box\u001b[0m\u001b[0;34m)\u001b[0m\u001b[0;34m)\u001b[0m\u001b[0;34m:\u001b[0m\u001b[0;34m\u001b[0m\u001b[0;34m\u001b[0m\u001b[0m\n\u001b[0;32m----> 7\u001b[0;31m     \u001b[0moutput_ep\u001b[0m \u001b[0;34m+=\u001b[0m \u001b[0mright\u001b[0m\u001b[0;34m[\u001b[0m\u001b[0mep_box\u001b[0m\u001b[0;34m[\u001b[0m\u001b[0mi\u001b[0m\u001b[0;34m-\u001b[0m\u001b[0;36m1\u001b[0m\u001b[0;34m]\u001b[0m\u001b[0;34m-\u001b[0m\u001b[0;36m1\u001b[0m\u001b[0;34m]\u001b[0m\u001b[0;34m\u001b[0m\u001b[0;34m\u001b[0m\u001b[0m\n\u001b[0m\u001b[1;32m      8\u001b[0m   \u001b[0mprint\u001b[0m\u001b[0;34m(\u001b[0m\u001b[0moutput_ep\u001b[0m\u001b[0;34m)\u001b[0m\u001b[0;34m\u001b[0m\u001b[0;34m\u001b[0m\u001b[0m\n\u001b[1;32m      9\u001b[0m   \u001b[0;31m# print(key)\u001b[0m\u001b[0;34m\u001b[0m\u001b[0;34m\u001b[0m\u001b[0m\n",
      "\u001b[0;31mIndexError\u001b[0m: string index out of range"
     ]
    }
   ],
   "source": [
    "for i in range(1,17):\n",
    "  new_output_left = \"\"\n",
    "  new_output_right = \"\"\n",
    "  new_output_left = output_right\n",
    "  # print(len(binary_strings))\n",
    "  # print(output_right)\n",
    "  output_right = f_function(binary_strings[i-1],output_right)\n",
    "  # new_output_right = xor_binary_strings(output_left, output_right)\n",
    "  # output_left = new_output_left\n",
    "  # output_right = new_output_right"
   ]
  }
 ],
 "metadata": {
  "colab": {
   "provenance": []
  },
  "kernelspec": {
   "display_name": "base",
   "language": "python",
   "name": "python3"
  },
  "language_info": {
   "codemirror_mode": {
    "name": "ipython",
    "version": 3
   },
   "file_extension": ".py",
   "mimetype": "text/x-python",
   "name": "python",
   "nbconvert_exporter": "python",
   "pygments_lexer": "ipython3",
   "version": "3.11.5"
  }
 },
 "nbformat": 4,
 "nbformat_minor": 0
}
